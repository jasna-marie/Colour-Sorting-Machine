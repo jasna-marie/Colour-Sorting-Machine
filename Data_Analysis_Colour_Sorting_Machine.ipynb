{
 "cells": [
  {
   "cell_type": "markdown",
   "id": "052363e4",
   "metadata": {},
   "source": [
    "# TCS34725 Colour Sensor Analysis"
   ]
  },
  {
   "cell_type": "markdown",
   "id": "e431df56",
   "metadata": {},
   "source": [
    "This Notebook covers the import and conversion of the TCS34725 color sensor readings. This also includes the plotting of the data necessary for calibration and determination of the sensor properties."
   ]
  },
  {
   "cell_type": "markdown",
   "id": "ac45078c",
   "metadata": {},
   "source": [
    "### Calibration of the lighting conditions"
   ]
  },
  {
   "cell_type": "markdown",
   "id": "df50d422",
   "metadata": {},
   "source": [
    "Importing the data from aws and displaying the heximal value for the respective lighting conditions for blue, green and red\n",
    "\n",
    "BLUE"
   ]
  },
  {
   "cell_type": "code",
   "execution_count": 17,
   "id": "728cd6ac",
   "metadata": {},
   "outputs": [],
   "source": [
    "import boto3\n",
    "import pandas\n",
    "import matplotlib.pyplot as plt\n",
    "\n",
    "client = boto3.client(\"iotanalytics\")\n",
    "\n",
    "step=10 # variable to only use every nth meausred data for the plot to make it clearer\n",
    "\n",
    "def import_data(dataset_name,day,hour, minute):\n",
    "    data = client.get_dataset_content(datasetName=dataset_name)\n",
    "    df = pandas.read_csv(data[\"entries\"][0][\"dataURI\"]) # import data\n",
    "    return df\n",
    "    \n",
    "Blau_Lampe = import_data('lichtverhaeltnisse_lampe_blau_dataset',17,18,13) # call the function to import the dataframe of the dynamic solar panel\n"
   ]
  },
  {
   "cell_type": "code",
   "execution_count": 19,
   "id": "4ed22fc1",
   "metadata": {},
   "outputs": [
    {
     "data": {
      "text/html": [
       "<div>\n",
       "<style scoped>\n",
       "    .dataframe tbody tr th:only-of-type {\n",
       "        vertical-align: middle;\n",
       "    }\n",
       "\n",
       "    .dataframe tbody tr th {\n",
       "        vertical-align: top;\n",
       "    }\n",
       "\n",
       "    .dataframe thead th {\n",
       "        text-align: right;\n",
       "    }\n",
       "</style>\n",
       "<table border=\"1\" class=\"dataframe\">\n",
       "  <thead>\n",
       "    <tr style=\"text-align: right;\">\n",
       "      <th></th>\n",
       "      <th>Lighting</th>\n",
       "      <th>Heximal</th>\n",
       "    </tr>\n",
       "  </thead>\n",
       "  <tbody>\n",
       "    <tr>\n",
       "      <th>0</th>\n",
       "      <td>Blau_Lampe</td>\n",
       "      <td>#505e5b</td>\n",
       "    </tr>\n",
       "    <tr>\n",
       "      <th>1</th>\n",
       "      <td>Blau_Tag</td>\n",
       "      <td>#52596c</td>\n",
       "    </tr>\n",
       "    <tr>\n",
       "      <th>2</th>\n",
       "      <td>Blau_Dunkel</td>\n",
       "      <td>#4c586b</td>\n",
       "    </tr>\n",
       "  </tbody>\n",
       "</table>\n",
       "</div>"
      ],
      "text/plain": [
       "      Lighting  Heximal\n",
       "0   Blau_Lampe  #505e5b\n",
       "1     Blau_Tag  #52596c\n",
       "2  Blau_Dunkel  #4c586b"
      ]
     },
     "execution_count": 19,
     "metadata": {},
     "output_type": "execute_result"
    }
   ],
   "source": [
    "import pandas as pd\n",
    "import numpy as np\n",
    "import matplotlib.pyplot as plt\n",
    "from __future__ import division\n",
    "import boto3\n",
    "\n",
    "client = boto3.client(\"iotanalytics\")\n",
    "\n",
    "step=10 # variable to only use every nth meausred data for the plot to make it clearer\n",
    "\n",
    "def import_data(dataset_name,day,hour, minute):\n",
    "    data = client.get_dataset_content(datasetName=dataset_name)\n",
    "    df = pandas.read_csv(data[\"entries\"][0][\"dataURI\"]) # import data\n",
    "    return df\n",
    "\n",
    "Blau_Lampe = import_data('lichtverhaeltnisse_lampe_blau_dataset',17,18,37)\n",
    "\n",
    "Blau_Tag = import_data('lichtverhaeltnisse_tag_blau_dataset',17,19,5)\n",
    "\n",
    "Blau_Dunkel = pd.read_csv('Lichtverhaeltnisse_Dunkel_Blau.csv')\n",
    "\n",
    "\n",
    "Blau_Lampe_hex = '#{:02x}{:02x}{:02x}'.format( 80, 94 , 91 )\n",
    "Blau_Tag_hex = '#{:02x}{:02x}{:02x}'.format( 82,89,108)\n",
    "Blau_Dunkel_hex = '#{:02x}{:02x}{:02x}'.format( 76,88,107)\n",
    "\n",
    "list1 = [\"Blau_Lampe\", \"Blau_Tag\",\"Blau_Dunkel\"]\n",
    "list2 = [Blau_Lampe_hex,Blau_Tag_hex, Blau_Dunkel_hex]\n",
    "Hex_Blau = pd.DataFrame(list(zip(list1,list2)), columns = ['Lighting','Heximal'])\n",
    "Hex_Blau"
   ]
  },
  {
   "cell_type": "code",
   "execution_count": 45,
   "id": "d6f65785",
   "metadata": {},
   "outputs": [
    {
     "data": {
      "text/plain": [
       "Text(0.5, 1.0, 'Blue - Dark')"
      ]
     },
     "execution_count": 45,
     "metadata": {},
     "output_type": "execute_result"
    },
    {
     "data": {
      "image/png": "[encoded data removed]",
      "text/plain": [
       "<Figure size 432x288 with 1 Axes>"
      ]
     },
     "metadata": {
      "needs_background": "light"
     },
     "output_type": "display_data"
    }
   ],
   "source": [
    "Blau_Dunkel_1 = pd.DataFrame(Blau_Dunkel, columns=[\"r\", \"g\", \"b\"])\n",
    "Blau_Dunkel_1.plot()\n",
    "plt.title('Blue - Dark')\n",
    "#plt.set_color_cycle(['red', 'green', 'blue'])\n",
    "\n",
    "Blau_Tag_1 = pd.DataFrame(Blau_Tag, columns=[\"r\", \"g\", \"b\"])\n",
    "Blau_Tag_1.plot()\n",
    "plt.title('Blue - Day')\n",
    "#plt.set_color_cycle(['red', 'green', 'blue'])\n",
    "\n",
    "Blau_Lampe_1 = pd.DataFrame(Blau_Lampe, columns=[\"r\", \"g\", \"b\"])\n",
    "Blau_Lampe_1.plot()\n",
    "plt.title('Blue - Lamp')\n",
    "#plt.set_color_cycle(['red', 'green', 'blue'])"
   ]
  },
  {
   "cell_type": "markdown",
   "id": "7f443807",
   "metadata": {},
   "source": [
    "Color display based on RGB values"
   ]
  },
  {
   "cell_type": "code",
   "execution_count": 25,
   "id": "272908f1",
   "metadata": {},
   "outputs": [
    {
     "data": {
      "text/plain": [
       "Text(0.5, 1.0, '#505e5b')"
      ]
     },
     "execution_count": 25,
     "metadata": {},
     "output_type": "execute_result"
    },
    {
     "data": {
      "image/png": "[encoded data removed]",
      "text/plain": [
       "<Figure size 432x288 with 1 Axes>"
      ]
     },
     "metadata": {
      "needs_background": "light"
     },
     "output_type": "display_data"
    }
   ],
   "source": [
    "#Blau_Lampe\n",
    "plt.imshow([[(80/255, 94/255, 91/255)]])\n",
    "plt.title('#505e5b')"
   ]
  },
  {
   "cell_type": "code",
   "execution_count": 27,
   "id": "96341a98",
   "metadata": {},
   "outputs": [
    {
     "data": {
      "text/plain": [
       "Text(0.5, 1.0, '#52596c')"
      ]
     },
     "execution_count": 27,
     "metadata": {},
     "output_type": "execute_result"
    },
    {
     "data": {
      "image/png": "[encoded data removed]",
      "text/plain": [
       "<Figure size 432x288 with 1 Axes>"
      ]
     },
     "metadata": {
      "needs_background": "light"
     },
     "output_type": "display_data"
    }
   ],
   "source": [
    "#Blau_Tag\n",
    "plt.imshow([[(82/255,89/255,108/255)]])\n",
    "plt.title('#52596c')"
   ]
  },
  {
   "cell_type": "code",
   "execution_count": 28,
   "id": "adc87d79",
   "metadata": {},
   "outputs": [
    {
     "data": {
      "text/plain": [
       "Text(0.5, 1.0, '#4c586b')"
      ]
     },
     "execution_count": 28,
     "metadata": {},
     "output_type": "execute_result"
    },
    {
     "data": {
      "image/png": "[encoded data removed]",
      "text/plain": [
       "<Figure size 432x288 with 1 Axes>"
      ]
     },
     "metadata": {
      "needs_background": "light"
     },
     "output_type": "display_data"
    }
   ],
   "source": [
    "#Blau_Dunkel\n",
    "plt.imshow([[(76/255, 88/255, 107/255)]])\n",
    "plt.imshow([[(82/255,89/255,108/255)]])\n",
    "plt.title('#4c586b')"
   ]
  },
  {
   "cell_type": "markdown",
   "id": "cec3cb46",
   "metadata": {},
   "source": [
    "GREEN\n"
   ]
  },
  {
   "cell_type": "code",
   "execution_count": 20,
   "id": "668d9f33",
   "metadata": {},
   "outputs": [
    {
     "data": {
      "text/html": [
       "<div>\n",
       "<style scoped>\n",
       "    .dataframe tbody tr th:only-of-type {\n",
       "        vertical-align: middle;\n",
       "    }\n",
       "\n",
       "    .dataframe tbody tr th {\n",
       "        vertical-align: top;\n",
       "    }\n",
       "\n",
       "    .dataframe thead th {\n",
       "        text-align: right;\n",
       "    }\n",
       "</style>\n",
       "<table border=\"1\" class=\"dataframe\">\n",
       "  <thead>\n",
       "    <tr style=\"text-align: right;\">\n",
       "      <th></th>\n",
       "      <th>Lighting</th>\n",
       "      <th>Heximal</th>\n",
       "    </tr>\n",
       "  </thead>\n",
       "  <tbody>\n",
       "    <tr>\n",
       "      <th>0</th>\n",
       "      <td>Grün_Lampe</td>\n",
       "      <td>#527142</td>\n",
       "    </tr>\n",
       "    <tr>\n",
       "      <th>1</th>\n",
       "      <td>Grün_Tag</td>\n",
       "      <td>#517546</td>\n",
       "    </tr>\n",
       "    <tr>\n",
       "      <th>2</th>\n",
       "      <td>Grün_Dunkel</td>\n",
       "      <td>#517444</td>\n",
       "    </tr>\n",
       "  </tbody>\n",
       "</table>\n",
       "</div>"
      ],
      "text/plain": [
       "      Lighting  Heximal\n",
       "0   Grün_Lampe  #527142\n",
       "1     Grün_Tag  #517546\n",
       "2  Grün_Dunkel  #517444"
      ]
     },
     "execution_count": 20,
     "metadata": {},
     "output_type": "execute_result"
    }
   ],
   "source": [
    "Grün_Lampe  = import_data('lichtverhaeltnisse_lampe_gruen_dataset',17,18,42)\n",
    "\n",
    "Grün_Tag = import_data('lichtverhaeltnisse_tag_gruen_dataset',17,18,51)\n",
    "\n",
    "Grün_Dunkel = import_data('lichtverhaeltnisse_dunkel_gruen_dataset',17,18,13)\n",
    "\n",
    "Grün_Lampe_hex = '#{:02x}{:02x}{:02x}'.format( 82, 113 , 66 )\n",
    "Grün_Tag_hex = '#{:02x}{:02x}{:02x}'.format( 81,117,70)\n",
    "Grün_Dunkel_hex = '#{:02x}{:02x}{:02x}'.format( 81,116,68)\n",
    "\n",
    "liste1 = [\"Grün_Lampe\", \"Grün_Tag\",\"Grün_Dunkel\"]\n",
    "liste2 = [Grün_Lampe_hex,Grün_Tag_hex, Grün_Dunkel_hex]\n",
    "Hex_Grün = pd.DataFrame(list(zip(liste1,liste2)), columns = ['Lighting','Heximal'])\n",
    "Hex_Grün"
   ]
  },
  {
   "cell_type": "code",
   "execution_count": 29,
   "id": "f886601a",
   "metadata": {},
   "outputs": [
    {
     "data": {
      "text/plain": [
       "Text(0.5, 1.0, '#527142')"
      ]
     },
     "execution_count": 29,
     "metadata": {},
     "output_type": "execute_result"
    },
    {
     "data": {
      "image/png": "[encoded data removed]",
      "text/plain": [
       "<Figure size 432x288 with 1 Axes>"
      ]
     },
     "metadata": {
      "needs_background": "light"
     },
     "output_type": "display_data"
    }
   ],
   "source": [
    "#Grün_Lampe\n",
    "plt.imshow([[(82/255, 113/255, 66/255)]])\n",
    "plt.title('#527142')"
   ]
  },
  {
   "cell_type": "code",
   "execution_count": 30,
   "id": "b61df135",
   "metadata": {},
   "outputs": [
    {
     "data": {
      "text/plain": [
       "Text(0.5, 1.0, '#517546')"
      ]
     },
     "execution_count": 30,
     "metadata": {},
     "output_type": "execute_result"
    },
    {
     "data": {
      "image/png": "[encoded data removed]",
      "text/plain": [
       "<Figure size 432x288 with 1 Axes>"
      ]
     },
     "metadata": {
      "needs_background": "light"
     },
     "output_type": "display_data"
    }
   ],
   "source": [
    "#Grün_Tag\n",
    "plt.imshow([[(81/255, 117/255, 70/255)]])\n",
    "plt.title('#517546')"
   ]
  },
  {
   "cell_type": "code",
   "execution_count": 31,
   "id": "d51b977b",
   "metadata": {},
   "outputs": [
    {
     "data": {
      "text/plain": [
       "Text(0.5, 1.0, '#517444')"
      ]
     },
     "execution_count": 31,
     "metadata": {},
     "output_type": "execute_result"
    },
    {
     "data": {
      "image/png": "[encoded data removed]",
      "text/plain": [
       "<Figure size 432x288 with 1 Axes>"
      ]
     },
     "metadata": {
      "needs_background": "light"
     },
     "output_type": "display_data"
    }
   ],
   "source": [
    "#Grün_Dunkel\n",
    "plt.imshow([[(81/255, 116/255, 68/255)]])\n",
    "plt.title('#517444')"
   ]
  },
  {
   "cell_type": "markdown",
   "id": "cbc950e4",
   "metadata": {},
   "source": [
    "RED\n"
   ]
  },
  {
   "cell_type": "code",
   "execution_count": 21,
   "id": "47f9043c",
   "metadata": {},
   "outputs": [
    {
     "data": {
      "text/html": [
       "<div>\n",
       "<style scoped>\n",
       "    .dataframe tbody tr th:only-of-type {\n",
       "        vertical-align: middle;\n",
       "    }\n",
       "\n",
       "    .dataframe tbody tr th {\n",
       "        vertical-align: top;\n",
       "    }\n",
       "\n",
       "    .dataframe thead th {\n",
       "        text-align: right;\n",
       "    }\n",
       "</style>\n",
       "<table border=\"1\" class=\"dataframe\">\n",
       "  <thead>\n",
       "    <tr style=\"text-align: right;\">\n",
       "      <th></th>\n",
       "      <th>Lighting</th>\n",
       "      <th>Heximal</th>\n",
       "    </tr>\n",
       "  </thead>\n",
       "  <tbody>\n",
       "    <tr>\n",
       "      <th>0</th>\n",
       "      <td>Rot_Lampe</td>\n",
       "      <td>#ac372d</td>\n",
       "    </tr>\n",
       "    <tr>\n",
       "      <th>1</th>\n",
       "      <td>Rot_Tag</td>\n",
       "      <td>#ce2728</td>\n",
       "    </tr>\n",
       "    <tr>\n",
       "      <th>2</th>\n",
       "      <td>Rot_Dunkel</td>\n",
       "      <td>#cb2425</td>\n",
       "    </tr>\n",
       "  </tbody>\n",
       "</table>\n",
       "</div>"
      ],
      "text/plain": [
       "     Lighting  Heximal\n",
       "0   Rot_Lampe  #ac372d\n",
       "1     Rot_Tag  #ce2728\n",
       "2  Rot_Dunkel  #cb2425"
      ]
     },
     "execution_count": 21,
     "metadata": {},
     "output_type": "execute_result"
    }
   ],
   "source": [
    "#Einlesen der csv Dateien - Rot\n",
    "Rot_Lampe = import_data('lichtverhaeltnisse_lampe_rot_dataset',17,18,31)\n",
    "\n",
    "Rot_Tag = import_data('lichtverhaeltnisse_tag_rot_dataset',17,18,59)\n",
    "\n",
    "Rot_Dunkel = import_data('lichtverhaeltnisse_dunkel_rot_dataset',17,18,23)\n",
    "\n",
    "Rot_Lampe_hex = '#{:02x}{:02x}{:02x}'.format( 172, 55 , 45 )\n",
    "Rot_Tag_hex = '#{:02x}{:02x}{:02x}'.format( 206,39,40)\n",
    "Rot_Dunkel_hex = '#{:02x}{:02x}{:02x}'.format( 203,36,37)\n",
    "\n",
    "lst1 = [\"Rot_Lampe\", \"Rot_Tag\",\"Rot_Dunkel\"]\n",
    "lst2 = [Rot_Lampe_hex,Rot_Tag_hex, Rot_Dunkel_hex]\n",
    "Hex_Rot = pd.DataFrame(list(zip(lst1,lst2)), columns = ['Lighting','Heximal'])\n",
    "Hex_Rot"
   ]
  },
  {
   "cell_type": "code",
   "execution_count": 32,
   "id": "b6092c30",
   "metadata": {},
   "outputs": [
    {
     "data": {
      "text/plain": [
       "Text(0.5, 1.0, '#ac372d')"
      ]
     },
     "execution_count": 32,
     "metadata": {},
     "output_type": "execute_result"
    },
    {
     "data": {
      "image/png": "[encoded data removed]",
      "text/plain": [
       "<Figure size 432x288 with 1 Axes>"
      ]
     },
     "metadata": {
      "needs_background": "light"
     },
     "output_type": "display_data"
    }
   ],
   "source": [
    "#Rot_Lampe\n",
    "plt.imshow([[(172/255, 55/255, 45/255)]])\n",
    "plt.title('#ac372d')"
   ]
  },
  {
   "cell_type": "code",
   "execution_count": 33,
   "id": "0bc4ef47",
   "metadata": {},
   "outputs": [
    {
     "data": {
      "text/plain": [
       "Text(0.5, 1.0, '#ce2728')"
      ]
     },
     "execution_count": 33,
     "metadata": {},
     "output_type": "execute_result"
    },
    {
     "data": {
      "image/png": "[encoded data removed]",
      "text/plain": [
       "<Figure size 432x288 with 1 Axes>"
      ]
     },
     "metadata": {
      "needs_background": "light"
     },
     "output_type": "display_data"
    }
   ],
   "source": [
    "#Rot_Tag\n",
    "plt.imshow([[(203/255, 36/255, 37/255)]])\n",
    "plt.title('#ce2728')"
   ]
  },
  {
   "cell_type": "code",
   "execution_count": 34,
   "id": "45e43a6d",
   "metadata": {},
   "outputs": [
    {
     "data": {
      "text/plain": [
       "Text(0.5, 1.0, '#cb2425')"
      ]
     },
     "execution_count": 34,
     "metadata": {},
     "output_type": "execute_result"
    },
    {
     "data": {
      "image/png": "[encoded data removed]",
      "text/plain": [
       "<Figure size 432x288 with 1 Axes>"
      ]
     },
     "metadata": {
      "needs_background": "light"
     },
     "output_type": "display_data"
    }
   ],
   "source": [
    "#Rot_Dunkel\n",
    "plt.imshow([[(203/255, 36/255, 37/255)]])\n",
    "plt.title('#cb2425')"
   ]
  },
  {
   "cell_type": "markdown",
   "id": "ed01c35b",
   "metadata": {},
   "source": [
    "### Calibration distance ratios between measuring object and color sensor"
   ]
  },
  {
   "cell_type": "markdown",
   "id": "ae36df1b",
   "metadata": {},
   "source": [
    "Reading csv files and displaying the heximal value for the respective ditance ratios for blue, green and red\n",
    "\n",
    "BLUE\n",
    "\n",
    "\n",
    "\n"
   ]
  },
  {
   "cell_type": "code",
   "execution_count": 25,
   "id": "03b31079",
   "metadata": {},
   "outputs": [
    {
     "data": {
      "text/html": [
       "<div>\n",
       "<style scoped>\n",
       "    .dataframe tbody tr th:only-of-type {\n",
       "        vertical-align: middle;\n",
       "    }\n",
       "\n",
       "    .dataframe tbody tr th {\n",
       "        vertical-align: top;\n",
       "    }\n",
       "\n",
       "    .dataframe thead th {\n",
       "        text-align: right;\n",
       "    }\n",
       "</style>\n",
       "<table border=\"1\" class=\"dataframe\">\n",
       "  <thead>\n",
       "    <tr style=\"text-align: right;\">\n",
       "      <th></th>\n",
       "      <th>Distance</th>\n",
       "      <th>Heximal</th>\n",
       "    </tr>\n",
       "  </thead>\n",
       "  <tbody>\n",
       "    <tr>\n",
       "      <th>0</th>\n",
       "      <td>Blau_Sensor</td>\n",
       "      <td>#225955</td>\n",
       "    </tr>\n",
       "    <tr>\n",
       "      <th>1</th>\n",
       "      <td>Blau_Aussen</td>\n",
       "      <td>#665254</td>\n",
       "    </tr>\n",
       "  </tbody>\n",
       "</table>\n",
       "</div>"
      ],
      "text/plain": [
       "      Distance  Heximal\n",
       "0  Blau_Sensor  #225955\n",
       "1  Blau_Aussen  #665254"
      ]
     },
     "execution_count": 25,
     "metadata": {},
     "output_type": "execute_result"
    }
   ],
   "source": [
    "Blau_Sensor = pd.read_csv('Abstand_Sensor_Blau.csv')\n",
    "\n",
    "Blau_Aussen = pd.read_csv('Abstand_Aussen_Blau.csv')\n",
    "\n",
    "Blau_Sensor_hex = '#{:02x}{:02x}{:02x}'.format( 34, 89, 85)\n",
    "Blau_Aussen_hex = '#{:02x}{:02x}{:02x}'.format( 102,82,84)\n",
    "\n",
    "list3 = [\"Blau_Sensor\", \"Blau_Aussen\"]\n",
    "list4 = [Blau_Sensor_hex,Blau_Aussen_hex]\n",
    "Hex_Blau_1 = pd.DataFrame(list(zip(list3,list4)), columns = ['Distance','Heximal'])\n",
    "Hex_Blau_1"
   ]
  },
  {
   "cell_type": "code",
   "execution_count": 50,
   "id": "ac5abbb0",
   "metadata": {},
   "outputs": [
    {
     "data": {
      "text/plain": [
       "Text(0.5, 1.0, 'Blue - short')"
      ]
     },
     "execution_count": 50,
     "metadata": {},
     "output_type": "execute_result"
    },
    {
     "data": {
      "image/png": "[encoded data removed]",
      "text/plain": [
       "<Figure size 432x288 with 1 Axes>"
      ]
     },
     "metadata": {
      "needs_background": "light"
     },
     "output_type": "display_data"
    }
   ],
   "source": [
    "Blau_short_1 = pd.DataFrame(Blau_Sensor, columns=[\"r\", \"g\", \"b\"])\n",
    "Blau_short_1.plot()\n",
    "plt.title('Blue - short')"
   ]
  },
  {
   "cell_type": "code",
   "execution_count": 49,
   "id": "0fffb287",
   "metadata": {},
   "outputs": [
    {
     "data": {
      "text/plain": [
       "Text(0.5, 1.0, 'Blue - long')"
      ]
     },
     "execution_count": 49,
     "metadata": {},
     "output_type": "execute_result"
    },
    {
     "data": {
      "image/png": "[encoded data removed]",
      "text/plain": [
       "<Figure size 432x288 with 1 Axes>"
      ]
     },
     "metadata": {
      "needs_background": "light"
     },
     "output_type": "display_data"
    }
   ],
   "source": [
    "Blau_long_1 = pd.DataFrame(Blau_Aussen, columns=[\"r\", \"g\", \"b\"])\n",
    "Blau_long_1.plot()\n",
    "plt.title('Blue - long')"
   ]
  },
  {
   "cell_type": "code",
   "execution_count": 193,
   "id": "4c70545d",
   "metadata": {},
   "outputs": [
    {
     "data": {
      "text/plain": [
       "<matplotlib.image.AxesImage at 0x269975ebeb0>"
      ]
     },
     "execution_count": 193,
     "metadata": {},
     "output_type": "execute_result"
    },
    {
     "data": {
      "image/png": "[encoded data removed]",
      "text/plain": [
       "<Figure size 432x288 with 1 Axes>"
      ]
     },
     "metadata": {
      "needs_background": "light"
     },
     "output_type": "display_data"
    }
   ],
   "source": [
    "#Blau_Sensor\n",
    "plt.imshow([[(34/255, 89/255, 85/255)]])"
   ]
  },
  {
   "cell_type": "code",
   "execution_count": 194,
   "id": "d8bb11c0",
   "metadata": {},
   "outputs": [
    {
     "data": {
      "text/plain": [
       "<matplotlib.image.AxesImage at 0x269976399d0>"
      ]
     },
     "execution_count": 194,
     "metadata": {},
     "output_type": "execute_result"
    },
    {
     "data": {
      "image/png": "[encoded data removed]",
      "text/plain": [
       "<Figure size 432x288 with 1 Axes>"
      ]
     },
     "metadata": {
      "needs_background": "light"
     },
     "output_type": "display_data"
    }
   ],
   "source": [
    "#Blau_Aussen\n",
    "plt.imshow([[(102/255, 82/255, 84/255)]])"
   ]
  },
  {
   "cell_type": "markdown",
   "id": "d2186f5d",
   "metadata": {},
   "source": [
    "GRÜN"
   ]
  },
  {
   "cell_type": "code",
   "execution_count": 9,
   "id": "62e0b6c3",
   "metadata": {},
   "outputs": [
    {
     "data": {
      "text/html": [
       "<div>\n",
       "<style scoped>\n",
       "    .dataframe tbody tr th:only-of-type {\n",
       "        vertical-align: middle;\n",
       "    }\n",
       "\n",
       "    .dataframe tbody tr th {\n",
       "        vertical-align: top;\n",
       "    }\n",
       "\n",
       "    .dataframe thead th {\n",
       "        text-align: right;\n",
       "    }\n",
       "</style>\n",
       "<table border=\"1\" class=\"dataframe\">\n",
       "  <thead>\n",
       "    <tr style=\"text-align: right;\">\n",
       "      <th></th>\n",
       "      <th>Distance</th>\n",
       "      <th>Heximal</th>\n",
       "    </tr>\n",
       "  </thead>\n",
       "  <tbody>\n",
       "    <tr>\n",
       "      <th>0</th>\n",
       "      <td>Grün_Sensor</td>\n",
       "      <td>#606742</td>\n",
       "    </tr>\n",
       "    <tr>\n",
       "      <th>1</th>\n",
       "      <td>Grün_Aussen</td>\n",
       "      <td>#586f43</td>\n",
       "    </tr>\n",
       "  </tbody>\n",
       "</table>\n",
       "</div>"
      ],
      "text/plain": [
       "      Distance  Heximal\n",
       "0  Grün_Sensor  #606742\n",
       "1  Grün_Aussen  #586f43"
      ]
     },
     "execution_count": 9,
     "metadata": {},
     "output_type": "execute_result"
    }
   ],
   "source": [
    "Grün_Sensor = pd.read_csv('Abstand_Sensor_Gruen.csv')\n",
    "\n",
    "Grün_Aussen = pd.read_csv('Abstand_Aussen_Gruen.csv')\n",
    "\n",
    "Grün_Sensor_hex = '#{:02x}{:02x}{:02x}'.format( 96, 103, 66)\n",
    "Grün_Aussen_hex = '#{:02x}{:02x}{:02x}'.format( 88,111,67)\n",
    "\n",
    "liste3 = [\"Grün_Sensor\", \"Grün_Aussen\"]\n",
    "liste4 = [Grün_Sensor_hex,Grün_Aussen_hex]\n",
    "Hex_Grün_1 = pd.DataFrame(list(zip(liste3,liste4)), columns = ['Distance','Heximal'])\n",
    "Hex_Grün_1"
   ]
  },
  {
   "cell_type": "code",
   "execution_count": 10,
   "id": "2a1262b2",
   "metadata": {},
   "outputs": [
    {
     "data": {
      "text/plain": [
       "Text(0.5, 1.0, 'Green - long')"
      ]
     },
     "execution_count": 10,
     "metadata": {},
     "output_type": "execute_result"
    },
    {
     "data": {
      "image/png": "[encoded data removed]",
      "text/plain": [
       "<Figure size 432x288 with 1 Axes>"
      ]
     },
     "metadata": {
      "needs_background": "light"
     },
     "output_type": "display_data"
    }
   ],
   "source": [
    "Grün_long_1 = pd.DataFrame(Grün_Aussen, columns=[\"r\", \"g\", \"b\"])\n",
    "Grün_long_1.plot()\n",
    "plt.title('Green - long')"
   ]
  },
  {
   "cell_type": "code",
   "execution_count": 205,
   "id": "697faa25",
   "metadata": {},
   "outputs": [
    {
     "data": {
      "text/plain": [
       "<matplotlib.image.AxesImage at 0x269976f2250>"
      ]
     },
     "execution_count": 205,
     "metadata": {},
     "output_type": "execute_result"
    },
    {
     "data": {
      "image/png": "[encoded data removed]",
      "text/plain": [
       "<Figure size 432x288 with 1 Axes>"
      ]
     },
     "metadata": {
      "needs_background": "light"
     },
     "output_type": "display_data"
    }
   ],
   "source": [
    "#Grün_Sensor\n",
    "plt.imshow([[(88/255, 111/255, 67/255)]])"
   ]
  },
  {
   "cell_type": "code",
   "execution_count": 203,
   "id": "d97e8374",
   "metadata": {},
   "outputs": [
    {
     "data": {
      "text/plain": [
       "<matplotlib.image.AxesImage at 0x2699769e6a0>"
      ]
     },
     "execution_count": 203,
     "metadata": {},
     "output_type": "execute_result"
    },
    {
     "data": {
      "image/png": "[encoded data removed]",
      "text/plain": [
       "<Figure size 432x288 with 1 Axes>"
      ]
     },
     "metadata": {
      "needs_background": "light"
     },
     "output_type": "display_data"
    }
   ],
   "source": [
    "#Grün_Aussen\n",
    "plt.imshow([[(96/255, 103/255, 66/255)]])"
   ]
  },
  {
   "cell_type": "markdown",
   "id": "3f799977",
   "metadata": {},
   "source": [
    "ROT"
   ]
  },
  {
   "cell_type": "code",
   "execution_count": 7,
   "id": "721292d8",
   "metadata": {},
   "outputs": [
    {
     "data": {
      "text/html": [
       "<div>\n",
       "<style scoped>\n",
       "    .dataframe tbody tr th:only-of-type {\n",
       "        vertical-align: middle;\n",
       "    }\n",
       "\n",
       "    .dataframe tbody tr th {\n",
       "        vertical-align: top;\n",
       "    }\n",
       "\n",
       "    .dataframe thead th {\n",
       "        text-align: right;\n",
       "    }\n",
       "</style>\n",
       "<table border=\"1\" class=\"dataframe\">\n",
       "  <thead>\n",
       "    <tr style=\"text-align: right;\">\n",
       "      <th></th>\n",
       "      <th>Distance</th>\n",
       "      <th>Heximal</th>\n",
       "    </tr>\n",
       "  </thead>\n",
       "  <tbody>\n",
       "    <tr>\n",
       "      <th>0</th>\n",
       "      <td>Rot_Sensor</td>\n",
       "      <td>#c82626</td>\n",
       "    </tr>\n",
       "    <tr>\n",
       "      <th>1</th>\n",
       "      <td>Rot_Aussen</td>\n",
       "      <td>#c12a29</td>\n",
       "    </tr>\n",
       "  </tbody>\n",
       "</table>\n",
       "</div>"
      ],
      "text/plain": [
       "     Distance  Heximal\n",
       "0  Rot_Sensor  #c82626\n",
       "1  Rot_Aussen  #c12a29"
      ]
     },
     "execution_count": 7,
     "metadata": {},
     "output_type": "execute_result"
    }
   ],
   "source": [
    "Rot_Sensor = pd.read_csv('Abstand_Sensor_Rot.csv')\n",
    "\n",
    "Rot_Aussen = pd.read_csv('Abstand_Aussen_Rot.csv')\n",
    "\n",
    "Rot_Sensor_hex = '#{:02x}{:02x}{:02x}'.format( 200, 38, 38)\n",
    "Rot_Aussen_hex = '#{:02x}{:02x}{:02x}'.format( 193,42,41)\n",
    "\n",
    "lst3 = [\"Rot_Sensor\", \"Rot_Aussen\"]\n",
    "lst4 = [Rot_Sensor_hex,Rot_Aussen_hex]\n",
    "Hex_Rot_1 = pd.DataFrame(list(zip(lst3,lst4)), columns = ['Distance','Heximal'])\n",
    "Hex_Rot_1"
   ]
  },
  {
   "cell_type": "code",
   "execution_count": 208,
   "id": "2d50273c",
   "metadata": {},
   "outputs": [
    {
     "data": {
      "text/plain": [
       "<matplotlib.image.AxesImage at 0x269977482e0>"
      ]
     },
     "execution_count": 208,
     "metadata": {},
     "output_type": "execute_result"
    },
    {
     "data": {
      "image/png": "[encoded data removed]",
      "text/plain": [
       "<Figure size 432x288 with 1 Axes>"
      ]
     },
     "metadata": {
      "needs_background": "light"
     },
     "output_type": "display_data"
    }
   ],
   "source": [
    "#Rot_Sensor\n",
    "plt.imshow([[(200/255, 38/255, 38/255)]])"
   ]
  },
  {
   "cell_type": "code",
   "execution_count": 210,
   "id": "f339b04a",
   "metadata": {
    "scrolled": true
   },
   "outputs": [
    {
     "data": {
      "text/plain": [
       "<matplotlib.image.AxesImage at 0x26997791f10>"
      ]
     },
     "execution_count": 210,
     "metadata": {},
     "output_type": "execute_result"
    },
    {
     "data": {
      "image/png": "[encoded data removed]",
      "text/plain": [
       "<Figure size 432x288 with 1 Axes>"
      ]
     },
     "metadata": {
      "needs_background": "light"
     },
     "output_type": "display_data"
    }
   ],
   "source": [
    "#Grün_Aussen\n",
    "plt.imshow([[(193/255, 42/255, 41/255)]])"
   ]
  },
  {
   "cell_type": "code",
   "execution_count": 23,
   "id": "ef3d1c4d",
   "metadata": {},
   "outputs": [
    {
     "data": {
      "text/plain": [
       "Text(0.5, 1.0, 'Day 1')"
      ]
     },
     "execution_count": 23,
     "metadata": {},
     "output_type": "execute_result"
    },
    {
     "data": {
      "image/png": "[encoded data removed]",
      "text/plain": [
       "<Figure size 432x288 with 1 Axes>"
      ]
     },
     "metadata": {
      "needs_background": "light"
     },
     "output_type": "display_data"
    }
   ],
   "source": [
    "import matplotlib.pyplot as plt\n",
    "Tag_1= pd.read_csv('Zeitreihe_Tag_1.csv')\n",
    "Tag_1_rgb = pd.DataFrame(Tag_1, columns=[\"r\", \"g\", \"b\"])\n",
    "Tag_1['Tag'] = pd.Series([\"Tag 1\" for x in range(len(Tag_1.index))])\n",
    "Tag_1_rgb.plot()\n",
    "#Tag_1.describe()\n",
    "#Tag_1_brightness = pd.DataFrame(Tag_1, columns=[\"brightness\"])\n",
    "#Tag_1_brightness.plot()\n",
    "plt.title('Day 1')"
   ]
  },
  {
   "cell_type": "code",
   "execution_count": 24,
   "id": "4f671f69",
   "metadata": {},
   "outputs": [
    {
     "data": {
      "text/plain": [
       "Text(0.5, 1.0, 'Day 2')"
      ]
     },
     "execution_count": 24,
     "metadata": {},
     "output_type": "execute_result"
    },
    {
     "data": {
      "image/png": "[encoded data removed]",
      "text/plain": [
       "<Figure size 432x288 with 1 Axes>"
      ]
     },
     "metadata": {
      "needs_background": "light"
     },
     "output_type": "display_data"
    }
   ],
   "source": [
    "Tag_2= pd.read_csv('Zeitreihe_Tag_2.csv')\n",
    "Tag_2_rgb = pd.DataFrame(Tag_2, columns=[\"r\", \"g\", \"b\"])\n",
    "Tag_2['Tag'] = pd.Series([\"Tag 2\" for x in range(len(Tag_2.index))])\n",
    "Tag_2_rgb.plot()\n",
    "plt.title('Day 2')"
   ]
  },
  {
   "cell_type": "code",
   "execution_count": 4,
   "id": "a54b6b75",
   "metadata": {},
   "outputs": [
    {
     "data": {
      "text/plain": [
       "Text(0.5, 1.0, 'Day 3')"
      ]
     },
     "execution_count": 4,
     "metadata": {},
     "output_type": "execute_result"
    },
    {
     "data": {
      "image/png": "[encoded data removed]",
      "text/plain": [
       "<Figure size 432x288 with 1 Axes>"
      ]
     },
     "metadata": {
      "needs_background": "light"
     },
     "output_type": "display_data"
    }
   ],
   "source": [
    "Tag_3= pd.read_csv('Zeitreihe_Tag_3.csv')\n",
    "Tag_3_rgb = pd.DataFrame(Tag_3, columns=[\"r\", \"g\", \"b\"])\n",
    "Tag_3['Tag'] = pd.Series([\"Tag 3\" for x in range(len(Tag_3.index))])\n",
    "Tag_3_rgb.plot()\n",
    "plt.title('Day 3')\n"
   ]
  },
  {
   "cell_type": "code",
   "execution_count": 5,
   "id": "51655950",
   "metadata": {},
   "outputs": [
    {
     "data": {
      "text/plain": [
       "Text(0.5, 1.0, 'Day 4')"
      ]
     },
     "execution_count": 5,
     "metadata": {},
     "output_type": "execute_result"
    },
    {
     "data": {
      "image/png": "[encoded data removed]",
      "text/plain": [
       "<Figure size 432x288 with 1 Axes>"
      ]
     },
     "metadata": {
      "needs_background": "light"
     },
     "output_type": "display_data"
    }
   ],
   "source": [
    "Tag_5= pd.read_csv('Zeitreihe_Tag_5.csv')\n",
    "Tag_5_rgb = pd.DataFrame(Tag_5, columns=[\"r\", \"g\", \"b\"])\n",
    "Tag_5['Tag'] = pd.Series([\"Tag 5\" for x in range(len(Tag_5.index))])\n",
    "Tag_5_rgb.plot()\n",
    "plt.title('Day 4')\n"
   ]
  },
  {
   "cell_type": "code",
   "execution_count": 32,
   "id": "982536a9",
   "metadata": {},
   "outputs": [
    {
     "data": {
      "text/plain": [
       "Text(0.5, 1.0, 'Day 5')"
      ]
     },
     "execution_count": 32,
     "metadata": {},
     "output_type": "execute_result"
    },
    {
     "data": {
      "image/png": "[encoded data removed]",
      "text/plain": [
       "<Figure size 432x288 with 1 Axes>"
      ]
     },
     "metadata": {
      "needs_background": "light"
     },
     "output_type": "display_data"
    }
   ],
   "source": [
    "import matplotlib.pyplot as plt\n",
    "Tag_6 = pd.read_csv('Zeitreihe_Tag_6.csv')\n",
    "Tag_6_rgb = pd.DataFrame(Tag_6, columns=[\"r\", \"g\", \"b\"])\n",
    "Tag_6['Tag'] = pd.Series([\"Tag 6\" for x in range(len(Tag_6.index))])\n",
    "Tag_6_rgb.plot()\n",
    "plt.title('Day 5')"
   ]
  },
  {
   "cell_type": "markdown",
   "id": "29764cfe",
   "metadata": {},
   "source": [
    "Determining the mean values and standard deviations of the respective daily data sets"
   ]
  },
  {
   "cell_type": "code",
   "execution_count": 18,
   "id": "41e3a487",
   "metadata": {},
   "outputs": [
    {
     "data": {
      "text/html": [
       "<div>\n",
       "<style scoped>\n",
       "    .dataframe tbody tr th:only-of-type {\n",
       "        vertical-align: middle;\n",
       "    }\n",
       "\n",
       "    .dataframe tbody tr th {\n",
       "        vertical-align: top;\n",
       "    }\n",
       "\n",
       "    .dataframe thead th {\n",
       "        text-align: right;\n",
       "    }\n",
       "</style>\n",
       "<table border=\"1\" class=\"dataframe\">\n",
       "  <thead>\n",
       "    <tr style=\"text-align: right;\">\n",
       "      <th></th>\n",
       "      <th>brightness mean</th>\n",
       "      <th>brightness std</th>\n",
       "      <th>r mean</th>\n",
       "      <th>r std</th>\n",
       "      <th>g mean</th>\n",
       "      <th>g std</th>\n",
       "      <th>b mean</th>\n",
       "      <th>b std</th>\n",
       "    </tr>\n",
       "    <tr>\n",
       "      <th>Tag</th>\n",
       "      <th></th>\n",
       "      <th></th>\n",
       "      <th></th>\n",
       "      <th></th>\n",
       "      <th></th>\n",
       "      <th></th>\n",
       "      <th></th>\n",
       "      <th></th>\n",
       "    </tr>\n",
       "  </thead>\n",
       "  <tbody>\n",
       "    <tr>\n",
       "      <th>Tag 1</th>\n",
       "      <td>21.940299</td>\n",
       "      <td>11.537660</td>\n",
       "      <td>96.417910</td>\n",
       "      <td>28.859193</td>\n",
       "      <td>115.970149</td>\n",
       "      <td>5.490957</td>\n",
       "      <td>78.925373</td>\n",
       "      <td>17.032334</td>\n",
       "    </tr>\n",
       "    <tr>\n",
       "      <th>Tag 2</th>\n",
       "      <td>23.923077</td>\n",
       "      <td>7.943048</td>\n",
       "      <td>85.096154</td>\n",
       "      <td>6.281812</td>\n",
       "      <td>114.230769</td>\n",
       "      <td>2.921290</td>\n",
       "      <td>72.019231</td>\n",
       "      <td>4.675721</td>\n",
       "    </tr>\n",
       "    <tr>\n",
       "      <th>Tag 3</th>\n",
       "      <td>89.093023</td>\n",
       "      <td>451.929241</td>\n",
       "      <td>86.674419</td>\n",
       "      <td>9.586004</td>\n",
       "      <td>113.837209</td>\n",
       "      <td>7.739602</td>\n",
       "      <td>116.697674</td>\n",
       "      <td>286.920724</td>\n",
       "    </tr>\n",
       "    <tr>\n",
       "      <th>Tag 5</th>\n",
       "      <td>41.540000</td>\n",
       "      <td>166.272853</td>\n",
       "      <td>89.620000</td>\n",
       "      <td>11.804340</td>\n",
       "      <td>115.720000</td>\n",
       "      <td>7.431428</td>\n",
       "      <td>87.760000</td>\n",
       "      <td>93.279602</td>\n",
       "    </tr>\n",
       "    <tr>\n",
       "      <th>Tag 6</th>\n",
       "      <td>18.880000</td>\n",
       "      <td>9.277227</td>\n",
       "      <td>86.620000</td>\n",
       "      <td>8.715199</td>\n",
       "      <td>116.360000</td>\n",
       "      <td>3.409231</td>\n",
       "      <td>73.240000</td>\n",
       "      <td>5.328246</td>\n",
       "    </tr>\n",
       "  </tbody>\n",
       "</table>\n",
       "</div>"
      ],
      "text/plain": [
       "       brightness mean  brightness std     r mean      r std      g mean  \\\n",
       "Tag                                                                        \n",
       "Tag 1        21.940299       11.537660  96.417910  28.859193  115.970149   \n",
       "Tag 2        23.923077        7.943048  85.096154   6.281812  114.230769   \n",
       "Tag 3        89.093023      451.929241  86.674419   9.586004  113.837209   \n",
       "Tag 5        41.540000      166.272853  89.620000  11.804340  115.720000   \n",
       "Tag 6        18.880000        9.277227  86.620000   8.715199  116.360000   \n",
       "\n",
       "          g std      b mean       b std  \n",
       "Tag                                      \n",
       "Tag 1  5.490957   78.925373   17.032334  \n",
       "Tag 2  2.921290   72.019231    4.675721  \n",
       "Tag 3  7.739602  116.697674  286.920724  \n",
       "Tag 5  7.431428   87.760000   93.279602  \n",
       "Tag 6  3.409231   73.240000    5.328246  "
      ]
     },
     "execution_count": 18,
     "metadata": {},
     "output_type": "execute_result"
    }
   ],
   "source": [
    "import numpy as np\n",
    "Gesamt = pd.concat([Tag_1, Tag_2, Tag_3, Tag_5, Tag_6], axis = 0)\n",
    "Gesamt_mean = Gesamt.groupby(\"Tag\").agg([np.mean, np.std])\n",
    "Gesamt_mean.columns = [' '.join(col) for col in Gesamt_mean.columns]\n",
    "Gesamt_mean\n",
    "\n",
    "#Gesamt_mean.plot(kind = \"barh\", legend = False,\n",
    "            #title = \"Average Prices\", xerr = \"std\")"
   ]
  },
  {
   "cell_type": "markdown",
   "id": "b5ec01de",
   "metadata": {},
   "source": [
    "Determining the deviation from the mean value of the RGB range related to the total time period"
   ]
  },
  {
   "cell_type": "code",
   "execution_count": 20,
   "id": "a2b85cad",
   "metadata": {},
   "outputs": [
    {
     "data": {
      "text/plain": [
       "Text(0.5, 1.0, 'Deviation from mean RGB value')"
      ]
     },
     "execution_count": 20,
     "metadata": {},
     "output_type": "execute_result"
    },
    {
     "data": {
      "image/png": "[encoded data removed]",
      "text/plain": [
       "<Figure size 432x288 with 1 Axes>"
      ]
     },
     "metadata": {
      "needs_background": "light"
     },
     "output_type": "display_data"
    }
   ],
   "source": [
    "mean = pd.DataFrame(Gesamt_mean, columns = ['r mean','g mean','b mean'])\n",
    "mean.boxplot()\n",
    "plt.title('Deviation from mean RGB value')"
   ]
  },
  {
   "cell_type": "code",
   "execution_count": null,
   "id": "59a4bdfd",
   "metadata": {},
   "outputs": [],
   "source": []
  }
 ],
 "metadata": {
  "kernelspec": {
   "display_name": "Python 3 (ipykernel)",
   "language": "python",
   "name": "python3"
  },
  "language_info": {
   "codemirror_mode": {
    "name": "ipython",
    "version": 3
   },
   "file_extension": ".py",
   "mimetype": "text/x-python",
   "name": "python",
   "nbconvert_exporter": "python",
   "pygments_lexer": "ipython3",
   "version": "3.9.7"
  }
 },
 "nbformat": 4,
 "nbformat_minor": 5
}
